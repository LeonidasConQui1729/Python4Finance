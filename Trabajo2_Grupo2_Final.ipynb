{
 "cells": [
  {
   "cell_type": "markdown",
   "id": "088586dd-6f50-48e7-838e-0c16d281f78f",
   "metadata": {},
   "source": [
    "# Trabajo práctico #2\n",
    "# 1. Integrantes:\n",
    "Alex Rodriguez, 20250587  \n",
    "Isabel Prado, 20250510  \n",
    "Celeste Castañeda, 20250363  \n",
    "Kevin Morales, 20250728  \n",
    "Leonel Contreras, 20170129  \n",
    "\n",
    "## 2. Simulación de caminos aleatorios\n",
    "Consideremos primero un simple paseo aleatorio que comienza en 0 con pasos de 1 y -1 que ocurren con igual probabilidad.\n",
    "\n",
    "Codifique un recorrido (path) de 1.000 pasos utilizando un bucle for y luego utilizando arreglos de datos (o vectores).\n",
    "\n",
    "Calcule el valor máximo y mínimo alcanzado en el recorrido, el valor promedio y el desvío estándar. Además calcule cuantos pasos le llevó al proceso tener una distancia de 10 con respecto al valor inicial en cualquier dirección.\n",
    "\n"
   ]
  },
  {
   "cell_type": "code",
   "execution_count": 1,
   "id": "8f68b934-0ad8-43b6-9321-7204ef41d2e4",
   "metadata": {},
   "outputs": [],
   "source": [
    "# definimos una funcion que, equiprobablemente, retorna 1 0 -1\n",
    "# importamos random\n",
    "import random\n",
    "# definimos la funcion que genera aleatoriamente 1 o -1\n",
    "def random_step():\n",
    "    # generamos 0 o 1 aleatoriamente, si tenemos 0 retornamos -1\n",
    "    if(random.randint(0,1)==0):\n",
    "        return -1\n",
    "    else:\n",
    "        # retornamos 1 en cualquier otro caso\n",
    "        return 1"
   ]
  },
  {
   "cell_type": "code",
   "execution_count": 2,
   "id": "3b977d47-293a-4bfb-a4b1-3d7512cacc47",
   "metadata": {},
   "outputs": [],
   "source": [
    "import array \n",
    "import math\n",
    "# definimos la funcion de la trayectoria\n",
    "def random_path(vectors=0):\n",
    "    # inicializamos un vector/lista para guardar los pasos en los que llegamos a una distancia de 10 respecto al origen\n",
    "    number = []\n",
    "    # si el parametro de la funcion es 1, utilizamos un vector\n",
    "    if (vectors==1):\n",
    "        # inicializamos el vector pasos con el valor 0, alli guardamos los pasos en la caminata aleatoria\n",
    "        pasos = [0]\n",
    "        # iniciamos el ciclo for \n",
    "        for i in range(1000):\n",
    "            # sumamos, al paso anterior, aleatoriamente 1 o -1 usando nuestra funcion random step\n",
    "            pasos.append(pasos[-1] + random_step())\n",
    "            # validamos si nos hallamos a un distancia de 10 o -10 respecto al origen\n",
    "            if pasos[-1]==10 or pasos[-1]==-10:\n",
    "                # guardamos la iteracion en la que se cumple dicha condicion en la lista number\n",
    "                number.append(i+1)\n",
    "        # calculamos la media, desviacion estandar, maximo y minimo\n",
    "        media = sum(pasos)/len(pasos)\n",
    "        squared_diff = 0\n",
    "        for x in pasos:\n",
    "            squared_diff += (x - media) ** 2\n",
    "        stdev = math.sqrt(squared_diff / len(pasos))\n",
    "        maximo = max(pasos)\n",
    "        minimo = min(pasos)\n",
    "        # retornamos el vector de pasos y los valores estadisticos\n",
    "        return pasos, media, stdev, maximo, minimo, number[0]  \n",
    "    # si el parametro de la funcion es distinto a 1, utilizamos un array para alamcenar la caminata aleatoria\n",
    "    else:\n",
    "        # inicializamos un objeto array con el primer paso en la caminata igual a 0\n",
    "        pasos = array.array('i', [0])\n",
    "        # inicializamos un vector/lista para guardar los pasos en los que llegamos a una distancia de 10 respecto al origen\n",
    "        number=[]\n",
    "        # iniciamos el ciclo for, lo iniciamos en 1 ya que el primer paso se encuentra en la posicion 0 del array\n",
    "        for i in range(1,1001): \n",
    "            # al paso anterior, le sumamos aleatoriamente 1 o -1 usando nuestra funcion\n",
    "            pasos.append(pasos[-1] + random_step())\n",
    "            # validamos si nos encontramos a una distancia de 10 respecto del origen\n",
    "            if(pasos[-1]==10 or pasos[-1]==-10):\n",
    "                # guardamos el paso en el que nos hallamos a esa distancia en la lista number\n",
    "                number.append(i+1)\n",
    "        # calculamos los valores estadisticos\n",
    "        media = sum(pasos)/len(pasos)\n",
    "        squared_diff = 0\n",
    "        for x in pasos:\n",
    "            squared_diff += (x - media) ** 2\n",
    "        stdev = math.sqrt(squared_diff / len(pasos))\n",
    "        maximo = max(pasos)\n",
    "        minimo = min(pasos)\n",
    "        # retornamos el array de pasos, valores estadisticos y el primer paso en el que nos hallamos a una distancia de 10\n",
    "        return pasos, media, stdev, maximo, minimo, number[0]\n",
    "            "
   ]
  },
  {
   "cell_type": "code",
   "execution_count": 3,
   "id": "d5f6eaaa-84fd-4573-ae3c-4430de6c22fc",
   "metadata": {},
   "outputs": [],
   "source": [
    "# al tenes el parametro vectors=1 usamos un objeto tipo list para guardar la caminata aleatoria\n",
    "pasos,media, stdev, maximo, minimo, number = random_path(vectors=1)"
   ]
  },
  {
   "cell_type": "code",
   "execution_count": 4,
   "id": "2d455505-8d4b-4143-ae39-35946ccee56d",
   "metadata": {},
   "outputs": [
    {
     "data": {
      "text/plain": [
       "list"
      ]
     },
     "execution_count": 4,
     "metadata": {},
     "output_type": "execute_result"
    }
   ],
   "source": [
    "# verificamos el tipo\n",
    "type(pasos)"
   ]
  },
  {
   "cell_type": "code",
   "execution_count": 10,
   "id": "4fde51fb-259f-4806-8bbc-96dae81bf482",
   "metadata": {},
   "outputs": [
    {
     "name": "stdout",
     "output_type": "stream",
     "text": [
      "-6.465534465534465 4.967331935003777 6 -19\n"
     ]
    }
   ],
   "source": [
    "# imprimimos los valores estadisticos de la caminata aleatoria \n",
    "print(media, stdev, maximo, minimo)"
   ]
  },
  {
   "cell_type": "code",
   "execution_count": 6,
   "id": "4bb68ad4-0faf-45d3-8608-a7ae2d4c21cb",
   "metadata": {},
   "outputs": [
    {
     "data": {
      "text/plain": [
       "142"
      ]
     },
     "execution_count": 6,
     "metadata": {},
     "output_type": "execute_result"
    }
   ],
   "source": [
    "# vemos el step en el que nos hallamos a una distancia de 10 respecto al origen\n",
    "number"
   ]
  },
  {
   "cell_type": "code",
   "execution_count": 7,
   "id": "b74ffb0b-7c48-4fb0-820e-f934257e50f9",
   "metadata": {},
   "outputs": [],
   "source": [
    "# por default, el parametro vectors de la funcion es 0, usando asi un array para almacenar la caminata aleatoria\n",
    "p,m, s, maxi, mini, numero = random_path()"
   ]
  },
  {
   "cell_type": "code",
   "execution_count": 8,
   "id": "4a6618f9-1b73-4d8f-83f5-61ab37de5839",
   "metadata": {},
   "outputs": [
    {
     "data": {
      "text/plain": [
       "array.array"
      ]
     },
     "execution_count": 8,
     "metadata": {},
     "output_type": "execute_result"
    }
   ],
   "source": [
    "# verificamos el tipo \n",
    "type(p)"
   ]
  },
  {
   "cell_type": "code",
   "execution_count": 9,
   "id": "7a222f59-3861-477a-a8d7-de108bb4eb66",
   "metadata": {},
   "outputs": [
    {
     "name": "stdout",
     "output_type": "stream",
     "text": [
      "19\n"
     ]
    }
   ],
   "source": [
    "print(numero)"
   ]
  }
 ],
 "metadata": {
  "kernelspec": {
   "display_name": "Python 3 (ipykernel)",
   "language": "python",
   "name": "python3"
  },
  "language_info": {
   "codemirror_mode": {
    "name": "ipython",
    "version": 3
   },
   "file_extension": ".py",
   "mimetype": "text/x-python",
   "name": "python",
   "nbconvert_exporter": "python",
   "pygments_lexer": "ipython3",
   "version": "3.9.6"
  }
 },
 "nbformat": 4,
 "nbformat_minor": 5
}

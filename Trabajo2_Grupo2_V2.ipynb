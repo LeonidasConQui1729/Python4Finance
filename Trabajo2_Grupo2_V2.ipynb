{
 "cells": [
  {
   "cell_type": "markdown",
   "id": "088586dd-6f50-48e7-838e-0c16d281f78f",
   "metadata": {},
   "source": [
    "# Trabajo práctico #2\n",
    "# 1. Integrantes:\n",
    "Alex Rodriguez, 20250587  \n",
    "Isabel Prado, 20250510  \n",
    "Celeste Castañeda, 20250363  \n",
    "Kevin Morales, 20250728  \n",
    "Leonel Contreras, 20170129  \n",
    "\n",
    "## 2. Simulación de caminos aleatorios\n",
    "Consideremos primero un simple paseo aleatorio que comienza en 0 con pasos de 1 y -1 que ocurren con igual probabilidad.\n",
    "\n",
    "Codifique un recorrido (path) de 1.000 pasos utilizando un bucle for y luego utilizando arreglos de datos (o vectores).\n",
    "\n",
    "Calcule el valor máximo y mínimo alcanzado en el recorrido, el valor promedio y el desvío estándar. Además calcule cuantos pasos le llevó al proceso tener una distancia de 10 con respecto al valor inicial en cualquier dirección.\n",
    "\n"
   ]
  },
  {
   "cell_type": "code",
   "execution_count": 26,
   "id": "8f68b934-0ad8-43b6-9321-7204ef41d2e4",
   "metadata": {},
   "outputs": [],
   "source": [
    "# definimos una funcion que, equiprobablemente, retorna 1 0 -1\n",
    "# importamos random\n",
    "import random\n",
    "# definimos la funcion que genera aleatoriamente 1 o -1\n",
    "def random_step():\n",
    "    # generamos 0 o 1 aleatoriamente, si tenemos 0 retornamos -1\n",
    "    if(random.randint(0,1)==0):\n",
    "        return -1\n",
    "    else:\n",
    "        # retornamos 1 en cualquier otro caso\n",
    "        return 1"
   ]
  },
  {
   "cell_type": "code",
   "execution_count": 42,
   "id": "3b977d47-293a-4bfb-a4b1-3d7512cacc47",
   "metadata": {},
   "outputs": [],
   "source": [
    "import array \n",
    "import math\n",
    "# definimos la funcion de la trayectoria\n",
    "def random_path(vectors=1):\n",
    "    number = []\n",
    "    if (vectors==1):\n",
    "        pasos = [0]\n",
    "        for i in range(1000):\n",
    "            pasos.append(pasos[-1] + random_step())\n",
    "            if pasos[-1]==10 or pasos[-1]==-10:\n",
    "                number.append(i+1)\n",
    "        media = sum(pasos)/len(pasos)\n",
    "        squared_diff = 0\n",
    "        for x in pasos:\n",
    "            squared_diff += (x - media) ** 2\n",
    "        stdev = math.sqrt(squared_diff / len(pasos))\n",
    "        maximo = max(pasos)\n",
    "        minimo = min(pasos)\n",
    "        return pasos, stdev, maximo, minimo, number[0]       \n",
    "    else:\n",
    "        # inicializamos un objeto array\n",
    "        pasos = array.array('i', [0])\n",
    "        number=[]\n",
    "        for i in range(1,1001): \n",
    "            pasos.append(pasos[-1] + random_step())\n",
    "            if(pasos[-1]==10 or pasos[-1]==-10):\n",
    "                number.append(i+1)\n",
    "        media = sum(pasos)/len(pasos)\n",
    "        squared_diff = 0\n",
    "        for x in pasos:\n",
    "            squared_diff += (x - media) ** 2\n",
    "        stdev = math.sqrt(squared_diff / len(pasos))\n",
    "        maximo = max(pasos)\n",
    "        minimo = min(pasos)\n",
    "        return pasos, stdev, maximo, minimo, number[0]\n",
    "            "
   ]
  },
  {
   "cell_type": "code",
   "execution_count": 44,
   "id": "d5f6eaaa-84fd-4573-ae3c-4430de6c22fc",
   "metadata": {},
   "outputs": [],
   "source": [
    "pasos,stdev, maximo, minimo, number = random_path(vectors=0)"
   ]
  },
  {
   "cell_type": "code",
   "execution_count": 50,
   "id": "2d455505-8d4b-4143-ae39-35946ccee56d",
   "metadata": {},
   "outputs": [
    {
     "data": {
      "text/plain": [
       "array.array"
      ]
     },
     "execution_count": 50,
     "metadata": {},
     "output_type": "execute_result"
    }
   ],
   "source": [
    "type(pasos)"
   ]
  },
  {
   "cell_type": "code",
   "execution_count": 46,
   "id": "4bb68ad4-0faf-45d3-8608-a7ae2d4c21cb",
   "metadata": {},
   "outputs": [
    {
     "data": {
      "text/plain": [
       "99"
      ]
     },
     "execution_count": 46,
     "metadata": {},
     "output_type": "execute_result"
    }
   ],
   "source": [
    "number"
   ]
  },
  {
   "cell_type": "code",
   "execution_count": 49,
   "id": "b74ffb0b-7c48-4fb0-820e-f934257e50f9",
   "metadata": {},
   "outputs": [
    {
     "data": {
      "text/plain": [
       "9"
      ]
     },
     "execution_count": 49,
     "metadata": {},
     "output_type": "execute_result"
    }
   ],
   "source": []
  },
  {
   "cell_type": "code",
   "execution_count": 48,
   "id": "4a6618f9-1b73-4d8f-83f5-61ab37de5839",
   "metadata": {},
   "outputs": [
    {
     "data": {
      "text/plain": [
       "10"
      ]
     },
     "execution_count": 48,
     "metadata": {},
     "output_type": "execute_result"
    }
   ],
   "source": []
  },
  {
   "cell_type": "code",
   "execution_count": null,
   "id": "7a222f59-3861-477a-a8d7-de108bb4eb66",
   "metadata": {},
   "outputs": [],
   "source": []
  }
 ],
 "metadata": {
  "kernelspec": {
   "display_name": "Python 3 (ipykernel)",
   "language": "python",
   "name": "python3"
  },
  "language_info": {
   "codemirror_mode": {
    "name": "ipython",
    "version": 3
   },
   "file_extension": ".py",
   "mimetype": "text/x-python",
   "name": "python",
   "nbconvert_exporter": "python",
   "pygments_lexer": "ipython3",
   "version": "3.9.6"
  }
 },
 "nbformat": 4,
 "nbformat_minor": 5
}
